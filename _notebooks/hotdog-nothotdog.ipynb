{
 "cells": [
  {
   {
   "cell_type": "markdown",
   "metadata": {},
   "source": [
    "# Hotdog Classifier/Painter exercise\n",
    "> Notebook for exercises making a classifier for pictures of hotdogs and pizza and the start of the painter task.\n",
    "\n",
    "- toc: true \n",
    "- badges: true\n",
    "- comments: true\n",
    "- categories: [jupyter]\n"
   ]
  },

   "cell_type": "code",
   "execution_count": 51,
   "metadata": {},
   "outputs": [],
   "source": [
    "import requests\n",
    "from fastbook import *\n",
    "def search_images_bing_new(key,term,customConfigId,min_sz=128):    \n",
    "    url = 'https://api.bing.microsoft.com/v7.0/custom/images/search?' + 'q=' + term + '&' + 'customconfig=' + customConfigId + '&' + 'count=150'\n",
    "    r = requests.get(url, headers={'Ocp-Apim-Subscription-Key':key})\n",
    "    search_results = r.json()    \n",
    "    print(term)\n",
    "    return L([img[\"thumbnailUrl\"] for img in search_results[\"value\"][:150]])"
   ]
  },
  {
   "cell_type": "code",
   "execution_count": 52,
   "metadata": {
    "scrolled": true
   },
   "outputs": [
    {
     "name": "stdout",
     "output_type": "stream",
     "text": [
      "pizza\n"
     ]
    },
    {
     "data": {
      "text/plain": [
       "(#150) ['https://tse3.mm.bing.net/th?id=OIP.Tgc4qUDMrJylw_EWYbMUtQHaFS&pid=Api','https://tse4.mm.bing.net/th?id=OIP.XF7m9Bf6YeFD7qCiUk9_lgHaEK&pid=Api','https://tse4.mm.bing.net/th?id=OIP.JCMHp14SQtQwD-ykfDENgwFNC7&pid=Api','https://tse1.mm.bing.net/th?id=OIP.1R4hze9Sou3MQzoXTw8aBgHaFj&pid=Api','https://tse4.mm.bing.net/th?id=OIP.Zyu9zfxQbFiZfqGiicsqUgHaEK&pid=Api','https://tse3.mm.bing.net/th?id=OIP.0xEAKC9dw8mMlKHsMDZKigAAAA&pid=Api','https://tse1.mm.bing.net/th?id=OIP.717sO-yuwZRsER5eJl50JgHaEK&pid=Api','https://tse2.mm.bing.net/th?id=OIP.tiKoPew1IkBDsM_FCqyLKQHaEK&pid=Api','https://tse2.mm.bing.net/th?id=OIP.lqb2vBwRvjxu10gocDiHIQHaFj&pid=Api','https://tse1.mm.bing.net/th?id=OIP.pPdkZHeCLXulRdSsOArLhAHaFj&pid=Api'...]"
      ]
     },
     "execution_count": 52,
     "metadata": {},
     "output_type": "execute_result"
    }
   ],
   "source": [
    "search_images_bing_new(\"1be3ada0f2a649d087e9fb39798485a0\", \"pizza\", \"efb1b149-c219-4091-be6d-14a279c405c4\")"
   ]
  },
  {
   "cell_type": "code",
   "execution_count": 69,
   "metadata": {},
   "outputs": [
    {
     "name": "stdout",
     "output_type": "stream",
     "text": [
      "plz\n",
      "C. G. Kratzenstein Stub\n",
      "C. G. Kratzenstein Stub\n"
     ]
    },
    {
     "data": {
      "text/html": [],
      "text/plain": [
       "<IPython.core.display.HTML object>"
      ]
     },
     "metadata": {},
     "output_type": "display_data"
    },
    {
     "name": "stdout",
     "output_type": "stream",
     "text": [
      "Nicolai Abildgaard\n",
      "Nicolai Abildgaard\n"
     ]
    },
    {
     "data": {
      "text/html": [],
      "text/plain": [
       "<IPython.core.display.HTML object>"
      ]
     },
     "metadata": {},
     "output_type": "display_data"
    }
   ],
   "source": [
    "painter_types = \"C. G. Kratzenstein Stub\", \"Nicolai Abildgaard\"\n",
    "path = Path('painter')\n",
    "if not path.exists():\n",
    "    print(\"plz\")\n",
    "    path.mkdir()\n",
    "    for o in painter_types:\n",
    "        print(f'{o}')\n",
    "        dest = (path/o)\n",
    "        dest.mkdir(exist_ok=True)\n",
    "        results = search_images_bing_new(\"1be3ada0f2a649d087e9fb39798485a0\", o, \"efb1b149-c219-4091-be6d-14a279c405c4\")\n",
    "        download_images(dest, urls=results)"
   ]
  },
  {
   "cell_type": "code",
   "execution_count": 66,
   "metadata": {},
   "outputs": [
    {
     "data": {
      "text/plain": [
       "(#300) [Path('painter/hotdog/00000000.jpg'),Path('painter/hotdog/00000007.jpg'),Path('painter/hotdog/00000005.jpg'),Path('painter/hotdog/00000001.jpg'),Path('painter/hotdog/00000002.jpg'),Path('painter/hotdog/00000006.jpg'),Path('painter/hotdog/00000004.jpg'),Path('painter/hotdog/00000003.jpg'),Path('painter/hotdog/00000012.jpg'),Path('painter/hotdog/00000011.jpg')...]"
      ]
     },
     "execution_count": 66,
     "metadata": {},
     "output_type": "execute_result"
    }
   ],
   "source": [
    "fns = get_image_files(path)\n",
    "fns"
   ]
  },
  {
   "cell_type": "code",
   "execution_count": 57,
   "metadata": {},
   "outputs": [
    {
     "data": {
      "text/html": [],
      "text/plain": [
       "<IPython.core.display.HTML object>"
      ]
     },
     "metadata": {},
     "output_type": "display_data"
    },
    {
     "data": {
      "text/plain": [
       "(#0) []"
      ]
     },
     "execution_count": 57,
     "metadata": {},
     "output_type": "execute_result"
    }
   ],
   "source": [
    "failed = verify_images(fns)\n",
    "failed"
   ]
  },
  {
   "cell_type": "code",
   "execution_count": 58,
   "metadata": {},
   "outputs": [
    {
     "data": {
      "text/plain": [
       "(#0) []"
      ]
     },
     "execution_count": 58,
     "metadata": {},
     "output_type": "execute_result"
    }
   ],
   "source": [
    "failed.map(path.unlink)"
   ]
  },
  {
   "cell_type": "code",
   "execution_count": 61,
   "metadata": {},
   "outputs": [],
   "source": [
    "class DataLoaders(GetAttr):\n",
    "    def __init__(self, *loaders): self.loaders = loaders\n",
    "    def __getitem__(self,i): return self.loaders[i]\n",
    "    train,valid = add_props(lambda i,self: self[i])\n",
    "    \n",
    "food = DataBlock(\n",
    "    blocks=(ImageBlock, CategoryBlock),\n",
    "    get_items=get_image_files,\n",
    "    splitter=RandomSplitter(valid_pct=0.2,seed=42),\n",
    "    get_y=parent_label,\n",
    "    item_tfms=Resize(128))\n",
    "\n"
   ]
  },
  {
   "cell_type": "code",
   "execution_count": 62,
   "metadata": {},
   "outputs": [],
   "source": [
    "food = food.new(\n",
    "    item_tfms=RandomResizedCrop(224,min_scale=0.5),\n",
    "    batch_tfms=aug_transforms())\n",
    "dls = food.dataloaders(path)"
   ]
  },
  {
   "cell_type": "code",
   "execution_count": 64,
   "metadata": {},
   "outputs": [
    {
     "data": {
      "text/html": [
       "<table border=\"1\" class=\"dataframe\">\n",
       "  <thead>\n",
       "    <tr style=\"text-align: left;\">\n",
       "      <th>epoch</th>\n",
       "      <th>train_loss</th>\n",
       "      <th>valid_loss</th>\n",
       "      <th>error_rate</th>\n",
       "      <th>time</th>\n",
       "    </tr>\n",
       "  </thead>\n",
       "  <tbody>\n",
       "    <tr>\n",
       "      <td>0</td>\n",
       "      <td>1.005386</td>\n",
       "      <td>0.636154</td>\n",
       "      <td>0.266667</td>\n",
       "      <td>00:02</td>\n",
       "    </tr>\n",
       "  </tbody>\n",
       "</table>"
      ],
      "text/plain": [
       "<IPython.core.display.HTML object>"
      ]
     },
     "metadata": {},
     "output_type": "display_data"
    },
    {
     "data": {
      "text/html": [
       "<table border=\"1\" class=\"dataframe\">\n",
       "  <thead>\n",
       "    <tr style=\"text-align: left;\">\n",
       "      <th>epoch</th>\n",
       "      <th>train_loss</th>\n",
       "      <th>valid_loss</th>\n",
       "      <th>error_rate</th>\n",
       "      <th>time</th>\n",
       "    </tr>\n",
       "  </thead>\n",
       "  <tbody>\n",
       "    <tr>\n",
       "      <td>0</td>\n",
       "      <td>0.395623</td>\n",
       "      <td>0.181591</td>\n",
       "      <td>0.083333</td>\n",
       "      <td>00:02</td>\n",
       "    </tr>\n",
       "    <tr>\n",
       "      <td>1</td>\n",
       "      <td>0.337682</td>\n",
       "      <td>0.049772</td>\n",
       "      <td>0.000000</td>\n",
       "      <td>00:02</td>\n",
       "    </tr>\n",
       "    <tr>\n",
       "      <td>2</td>\n",
       "      <td>0.250209</td>\n",
       "      <td>0.024089</td>\n",
       "      <td>0.000000</td>\n",
       "      <td>00:02</td>\n",
       "    </tr>\n",
       "    <tr>\n",
       "      <td>3</td>\n",
       "      <td>0.204521</td>\n",
       "      <td>0.015663</td>\n",
       "      <td>0.000000</td>\n",
       "      <td>00:02</td>\n",
       "    </tr>\n",
       "    <tr>\n",
       "      <td>4</td>\n",
       "      <td>0.162210</td>\n",
       "      <td>0.009398</td>\n",
       "      <td>0.000000</td>\n",
       "      <td>00:02</td>\n",
       "    </tr>\n",
       "    <tr>\n",
       "      <td>5</td>\n",
       "      <td>0.133787</td>\n",
       "      <td>0.006265</td>\n",
       "      <td>0.000000</td>\n",
       "      <td>00:02</td>\n",
       "    </tr>\n",
       "    <tr>\n",
       "      <td>6</td>\n",
       "      <td>0.112834</td>\n",
       "      <td>0.005773</td>\n",
       "      <td>0.000000</td>\n",
       "      <td>00:02</td>\n",
       "    </tr>\n",
       "    <tr>\n",
       "      <td>7</td>\n",
       "      <td>0.096246</td>\n",
       "      <td>0.007061</td>\n",
       "      <td>0.000000</td>\n",
       "      <td>00:02</td>\n",
       "    </tr>\n",
       "    <tr>\n",
       "      <td>8</td>\n",
       "      <td>0.085900</td>\n",
       "      <td>0.010081</td>\n",
       "      <td>0.000000</td>\n",
       "      <td>00:02</td>\n",
       "    </tr>\n",
       "    <tr>\n",
       "      <td>9</td>\n",
       "      <td>0.079036</td>\n",
       "      <td>0.011370</td>\n",
       "      <td>0.000000</td>\n",
       "      <td>00:02</td>\n",
       "    </tr>\n",
       "  </tbody>\n",
       "</table>"
      ],
      "text/plain": [
       "<IPython.core.display.HTML object>"
      ]
     },
     "metadata": {},
     "output_type": "display_data"
    }
   ],
   "source": [
    "learn = cnn_learner(dls, resnet18, metrics=error_rate)\n",
    "learn.fine_tune(10)"
   ]
  },
  {
   "cell_type": "code",
   "execution_count": null,
   "metadata": {},
   "outputs": [],
   "source": []
  }
 ],
 "metadata": {
  "kernelspec": {
   "display_name": "Python 3",
   "language": "python",
   "name": "python3"
  },
  "language_info": {
   "codemirror_mode": {
    "name": "ipython",
    "version": 3
   },
   "file_extension": ".py",
   "mimetype": "text/x-python",
   "name": "python",
   "nbconvert_exporter": "python",
   "pygments_lexer": "ipython3",
   "version": "3.8.6"
  }
 },
 "nbformat": 4,
 "nbformat_minor": 4
}
